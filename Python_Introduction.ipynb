{
  "nbformat": 4,
  "nbformat_minor": 0,
  "metadata": {
    "colab": {
      "provenance": []
    },
    "kernelspec": {
      "name": "python3",
      "display_name": "Python 3"
    },
    "language_info": {
      "name": "python"
    }
  },
  "cells": [
    {
      "cell_type": "markdown",
      "source": [
        "# Python Basics and Binary Classification for Neuroscience\n",
        "\n",
        "## 1. Introduction to Python Basics\n",
        "\n",
        "### 1.1 Variables and Basic Operations"
      ],
      "metadata": {
        "id": "h4A9RwIDi0Ib"
      }
    },
    {
      "cell_type": "markdown",
      "source": [
        "# In Python, we can store values in variables and manipulate them with math.\n",
        "# Scroll over the cell below and click the \"play\" button that appears on the left or click the cell and press Shift+Enter to execute the code (It will take a second for Google to spin up a cloud computer for your code)"
      ],
      "metadata": {
        "id": "bLdMn93Ri7Wn"
      }
    },
    {
      "cell_type": "code",
      "source": [
        "x = 5\n",
        "y = 3\n",
        "\n",
        "# We can perform basic arithmetic operations\n",
        "print(f\"Addition: {x + y}\")\n",
        "print(f\"Subtraction: {x - y}\")\n",
        "print(f\"Multiplication: {x * y}\")\n",
        "print(f\"Division: {x / y}\")\n",
        "\n",
        "# We can store the result of an operation in a new variable\n",
        "\n",
        "z = x + y\n",
        "print(f\"The value of z is {z}\")"
      ],
      "metadata": {
        "colab": {
          "base_uri": "https://localhost:8080/"
        },
        "id": "gv--G6jli-CS",
        "outputId": "7c64c72e-3fe0-44a7-bf18-ff9425e499c6"
      },
      "execution_count": null,
      "outputs": [
        {
          "output_type": "stream",
          "name": "stdout",
          "text": [
            "Addition: 8\n",
            "Subtraction: 2\n",
            "Multiplication: 15\n",
            "Division: 1.6666666666666667\n",
            "The value of z is 8\n"
          ]
        }
      ]
    },
    {
      "cell_type": "markdown",
      "source": [
        "# Exercise 1: Create two variables with different values and print their product (1 minute)\n"
      ],
      "metadata": {
        "id": "zgA69JIVkxxE"
      }
    },
    {
      "cell_type": "code",
      "source": [
        "# Enter code below this line to solve the exercise\n"
      ],
      "metadata": {
        "id": "26-eCsCClCTG"
      },
      "execution_count": null,
      "outputs": []
    },
    {
      "cell_type": "markdown",
      "source": [
        "### 1.2 Lists and For Loops\n",
        "\n"
      ],
      "metadata": {
        "id": "0svassVNlHft"
      }
    },
    {
      "cell_type": "code",
      "source": [
        "# Lists are ordered collections of items\n",
        "\n",
        "numbers = [1, 2, 3, 4, 5]\n",
        "\n",
        "# We can iterate through lists using for loops\n",
        "for num in numbers:\n",
        "    print(num)"
      ],
      "metadata": {
        "colab": {
          "base_uri": "https://localhost:8080/"
        },
        "id": "3U03oPPFlLNh",
        "outputId": "a8f9f116-c964-428d-ff41-338be9fac1c2"
      },
      "execution_count": null,
      "outputs": [
        {
          "output_type": "stream",
          "name": "stdout",
          "text": [
            "1\n",
            "2\n",
            "3\n",
            "4\n",
            "5\n"
          ]
        }
      ]
    },
    {
      "cell_type": "code",
      "source": [
        "# Loops are important ways to organize and execute your code efficiently\n",
        "\n",
        "numbers_result = []\n",
        "for num in numbers:\n",
        "    numbers_result.append(num * 2)\n",
        "\n",
        "print(numbers_result)"
      ],
      "metadata": {
        "colab": {
          "base_uri": "https://localhost:8080/"
        },
        "id": "RuBcdhY6lf83",
        "outputId": "ee6b30b3-6736-48f4-8daa-9923efbc6f27"
      },
      "execution_count": null,
      "outputs": [
        {
          "output_type": "stream",
          "name": "stdout",
          "text": [
            "[2, 4, 6, 8, 10]\n"
          ]
        }
      ]
    },
    {
      "cell_type": "code",
      "source": [
        "# Lists can be accessed and changed by indexing them\n",
        "\n",
        "print(numbers[0])\n",
        "numbers[0] = 10\n",
        "print(numbers)"
      ],
      "metadata": {
        "colab": {
          "base_uri": "https://localhost:8080/"
        },
        "id": "U-BHY3dVliHf",
        "outputId": "43216208-6ec3-45fb-ff91-770b992f7530"
      },
      "execution_count": null,
      "outputs": [
        {
          "output_type": "stream",
          "name": "stdout",
          "text": [
            "1\n",
            "[10, 2, 3, 4, 5]\n"
          ]
        }
      ]
    },
    {
      "cell_type": "markdown",
      "source": [
        "# Exercise 2: Lists can carry words, or \"strings\" as well as numbers. Create a list of your favorite colors and use a loop to print the list in reverse order"
      ],
      "metadata": {
        "id": "j2mWPF4slutO"
      }
    },
    {
      "cell_type": "code",
      "source": [
        "# To assign a string to a variable, type the string and surround it with quotes\n",
        "x = \"red\"\n",
        "# Many python variables have in-built functions which help us out, for example:\n",
        "length_of_list = len(numbers)\n",
        "print(length_of_list)"
      ],
      "metadata": {
        "colab": {
          "base_uri": "https://localhost:8080/"
        },
        "id": "yqmW078DlHvO",
        "outputId": "e472f40c-c109-4197-8525-0d50158166f8"
      },
      "execution_count": null,
      "outputs": [
        {
          "output_type": "stream",
          "name": "stdout",
          "text": [
            "5\n"
          ]
        }
      ]
    },
    {
      "cell_type": "markdown",
      "source": [
        "### 1.3 Functions\n"
      ],
      "metadata": {
        "id": "n7UWj7lNmqop"
      }
    },
    {
      "cell_type": "code",
      "source": [
        "# Functions help us organize and reuse code\n",
        "def greet(name):\n",
        "    return f\"Hello, {name}!\"\n",
        "\n",
        "print(greet(\"Neuroscientist\"))"
      ],
      "metadata": {
        "colab": {
          "base_uri": "https://localhost:8080/"
        },
        "id": "pIJF1JydmSv6",
        "outputId": "030adb74-22d0-4e24-8cfe-656f3a5f3388"
      },
      "execution_count": null,
      "outputs": [
        {
          "output_type": "stream",
          "name": "stdout",
          "text": [
            "Hello, Neuroscientist!\n"
          ]
        }
      ]
    },
    {
      "cell_type": "markdown",
      "source": [
        "# Exercise 3: Write a function that takes a list as input and returns its square. Execute this function on the variable \"numbers\" above."
      ],
      "metadata": {
        "id": "eSVLjvJknWfj"
      }
    },
    {
      "cell_type": "code",
      "source": [],
      "metadata": {
        "id": "wqn-buBymrko"
      },
      "execution_count": null,
      "outputs": []
    },
    {
      "cell_type": "markdown",
      "source": [
        "## 2. Introduction to NumPy and Pandas. These are near-ubiquitous \"packages,\" unofficial libraries of code that are universally used for matrix math and data management\n"
      ],
      "metadata": {
        "id": "T7V3w_JSoS4A"
      }
    },
    {
      "cell_type": "code",
      "source": [
        "\n",
        "# First, let's import the libraries - now we can use the functions inside numpy by using the form np.something or\n",
        "import numpy as np\n",
        "import pandas as pd\n",
        "\n",
        "### 2.1 NumPy Arrays\n",
        "\n",
        "# NumPy arrays are efficient for numerical operations\n",
        "arr = np.array([1, 2, 3, 4, 5])\n",
        "arr2 = np.array(numbers)\n",
        "print(f\"Array: {arr}\")\n",
        "print(f\"Mean of array: {np.mean(arr)}\")\n",
        "print(f\"Mean of numbers: {np.mean(numbers)}\")\n",
        "\n",
        "# Exercise: Create a DataFrame with information about different neurons (e.g., type, firing rate)"
      ],
      "metadata": {
        "colab": {
          "base_uri": "https://localhost:8080/"
        },
        "id": "1pCpMW2yoTNx",
        "outputId": "fa4875f4-f903-4263-9b7d-334739bb8718"
      },
      "execution_count": null,
      "outputs": [
        {
          "output_type": "stream",
          "name": "stdout",
          "text": [
            "Array: [1 2 3 4 5]\n",
            "Mean of array: 3.0\n",
            "Mean of numbers: 4.8\n"
          ]
        }
      ]
    },
    {
      "cell_type": "markdown",
      "source": [
        "# Exercise: Create a NumPy array of your own and calculate its standard deviation\n",
        "# Hint: Google \"numpy standard deviation\" and look at the examples section on the numpy website. All programmers do this all the time!\n"
      ],
      "metadata": {
        "id": "Po3N2K_bo-mM"
      }
    },
    {
      "cell_type": "code",
      "source": [
        "def calculate_standard_deviation(numbers):\n",
        "  standard_deviation_of_array =\n",
        "  return standard_deviation_of_array"
      ],
      "metadata": {
        "id": "Sm7yHLfmo_yW"
      },
      "execution_count": null,
      "outputs": []
    },
    {
      "cell_type": "markdown",
      "source": [
        "# Core of Numpy - matrix multiplication!"
      ],
      "metadata": {
        "id": "JoJGx32qRzyG"
      }
    },
    {
      "cell_type": "code",
      "source": [
        "matrix_1 = np.array([[1, 2], [3, 4]])\n",
        "matrix_2 = np.array([[5, 6], [7, 8]])\n",
        "\n",
        "# Matrix multiplication\n",
        "result = matrix_1 @ matrix_2\n",
        "\n",
        "# Element-wise multiplication\n",
        "elementwise_result = matrix_1 * matrix_2\n",
        "print(\"Matrix 1:\")\n",
        "print(matrix_1)\n",
        "print(\"Matrix 2:\")\n",
        "print(matrix_2)\n",
        "print(\"Matrix Mult. Result\")\n",
        "print(result)\n",
        "print(\"Element-wise Mult. Result\")\n",
        "print(elementwise_result)"
      ],
      "metadata": {
        "colab": {
          "base_uri": "https://localhost:8080/"
        },
        "id": "5ltcsnLvRzRT",
        "outputId": "e5b28508-cd02-4515-802d-cc2d5bcace2c"
      },
      "execution_count": null,
      "outputs": [
        {
          "output_type": "stream",
          "name": "stdout",
          "text": [
            "Matrix 1:\n",
            "[[1 2]\n",
            " [3 4]]\n",
            "Matrix 2:\n",
            "[[5 6]\n",
            " [7 8]]\n",
            "Matrix Mult. Result\n",
            "[[19 22]\n",
            " [43 50]]\n",
            "Element-wise Mult. Result\n",
            "[[ 5 12]\n",
            " [21 32]]\n"
          ]
        }
      ]
    },
    {
      "cell_type": "markdown",
      "source": [
        "### 2.2 Pandas DataFrames\n"
      ],
      "metadata": {
        "id": "1Q0bdfEMpe6V"
      }
    },
    {
      "cell_type": "code",
      "source": [
        "# Pandas DataFrames are great for handling \"tabular\" data\n",
        "data = {'Name': ['Alice', 'Bob', 'Charlie'],\n",
        "        'Age': [25, 30, 35],\n",
        "        'City': ['New York', 'San Francisco', 'Los Angeles']}\n",
        "df = pd.DataFrame(data)\n",
        "print(df)"
      ],
      "metadata": {
        "colab": {
          "base_uri": "https://localhost:8080/"
        },
        "id": "Kul7PQYopfGj",
        "outputId": "e9f82f1f-2988-4794-cb6b-4efc35e3c2a2"
      },
      "execution_count": null,
      "outputs": [
        {
          "output_type": "stream",
          "name": "stdout",
          "text": [
            "      Name  Age           City\n",
            "0    Alice   25       New York\n",
            "1      Bob   30  San Francisco\n",
            "2  Charlie   35    Los Angeles\n"
          ]
        }
      ]
    },
    {
      "cell_type": "code",
      "source": [
        "print(df[\"Name\"])"
      ],
      "metadata": {
        "colab": {
          "base_uri": "https://localhost:8080/"
        },
        "id": "3wNI0v3rqNIX",
        "outputId": "624d7fb9-9d1c-4161-a942-47e3a2a617a0"
      },
      "execution_count": null,
      "outputs": [
        {
          "output_type": "stream",
          "name": "stdout",
          "text": [
            "0      Alice\n",
            "1        Bob\n",
            "2    Charlie\n",
            "Name: Name, dtype: object\n"
          ]
        }
      ]
    },
    {
      "cell_type": "markdown",
      "source": [
        "# Exercise- calculate the mean age of the group of friends"
      ],
      "metadata": {
        "id": "Q-B-QXQCqPgd"
      }
    },
    {
      "cell_type": "code",
      "source": [],
      "metadata": {
        "id": "nWNT3lo7qMn9"
      },
      "execution_count": null,
      "outputs": []
    }
  ]
}